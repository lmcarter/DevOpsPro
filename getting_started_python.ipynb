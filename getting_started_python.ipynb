{
  "nbformat": 4,
  "nbformat_minor": 0,
  "metadata": {
    "colab": {
      "provenance": [],
      "toc_visible": true,
      "authorship_tag": "ABX9TyNQX6EKC8mHFvX0B5/DWVQa",
      "include_colab_link": true
    },
    "kernelspec": {
      "name": "python3",
      "display_name": "Python 3"
    },
    "language_info": {
      "name": "python"
    }
  },
  "cells": [
    {
      "cell_type": "markdown",
      "metadata": {
        "id": "view-in-github",
        "colab_type": "text"
      },
      "source": [
        "<a href=\"https://colab.research.google.com/github/lmcarter/DevOpsPro/blob/master/getting_started_python.ipynb\" target=\"_parent\"><img src=\"https://colab.research.google.com/assets/colab-badge.svg\" alt=\"Open In Colab\"/></a>"
      ]
    },
    {
      "cell_type": "markdown",
      "source": [
        "## Introduction to Python"
      ],
      "metadata": {
        "id": "Pi1-WNkVGOBI"
      }
    },
    {
      "cell_type": "markdown",
      "source": [
        "###Statements in Python"
      ],
      "metadata": {
        "id": "lpNaK53cGx73"
      }
    },
    {
      "cell_type": "code",
      "source": [
        "print('Hello World')"
      ],
      "metadata": {
        "colab": {
          "base_uri": "https://localhost:8080/"
        },
        "id": "vjYpjZomHhBf",
        "outputId": "5c7283e6-22b2-41e5-e717-008cfc6bbb05"
      },
      "execution_count": 1,
      "outputs": [
        {
          "output_type": "stream",
          "name": "stdout",
          "text": [
            "Hello World\n"
          ]
        }
      ]
    },
    {
      "cell_type": "code",
      "source": [
        "name = 'Leigh'\n",
        "print(f'Hello {name}')"
      ],
      "metadata": {
        "colab": {
          "base_uri": "https://localhost:8080/"
        },
        "id": "_87iPdoyIIGd",
        "outputId": "54c40691-31c3-42e8-bbf6-4899ebc8098c"
      },
      "execution_count": 2,
      "outputs": [
        {
          "output_type": "stream",
          "name": "stdout",
          "text": [
            "Hello Leigh\n"
          ]
        }
      ]
    },
    {
      "cell_type": "markdown",
      "source": [
        "### Data Structures: Lists and Dictionaries"
      ],
      "metadata": {
        "id": "LKpdpU4AN1db"
      }
    },
    {
      "cell_type": "markdown",
      "source": [
        "####List"
      ],
      "metadata": {
        "id": "o8SSOWZ1SxoX"
      }
    },
    {
      "cell_type": "code",
      "source": [
        "fruit = ['apple', 'pear', 'strawberry']"
      ],
      "metadata": {
        "id": "szGSaDKyOziC"
      },
      "execution_count": null,
      "outputs": []
    },
    {
      "cell_type": "code",
      "source": [
        "type(fruit)"
      ],
      "metadata": {
        "colab": {
          "base_uri": "https://localhost:8080/"
        },
        "id": "j5-mqbPQPkAv",
        "outputId": "1947fee5-f5eb-4732-d282-ca0bf227a7e8"
      },
      "execution_count": 6,
      "outputs": [
        {
          "output_type": "execute_result",
          "data": {
            "text/plain": [
              "list"
            ]
          },
          "metadata": {},
          "execution_count": 6
        }
      ]
    },
    {
      "cell_type": "code",
      "source": [
        "fruit[0]\n"
      ],
      "metadata": {
        "colab": {
          "base_uri": "https://localhost:8080/",
          "height": 35
        },
        "id": "4daINoGTQS6O",
        "outputId": "80443445-2f46-4730-e1d8-5110dba32f49"
      },
      "execution_count": 8,
      "outputs": [
        {
          "output_type": "execute_result",
          "data": {
            "text/plain": [
              "'apple'"
            ],
            "application/vnd.google.colaboratory.intrinsic+json": {
              "type": "string"
            }
          },
          "metadata": {},
          "execution_count": 8
        }
      ]
    },
    {
      "cell_type": "code",
      "source": [
        "fruit[:-1]"
      ],
      "metadata": {
        "colab": {
          "base_uri": "https://localhost:8080/"
        },
        "id": "2ifcLYNuRUkD",
        "outputId": "38233ccb-0e5f-4a7e-cb3c-5c49c3d15564"
      },
      "execution_count": 10,
      "outputs": [
        {
          "output_type": "execute_result",
          "data": {
            "text/plain": [
              "['apple', 'pear']"
            ]
          },
          "metadata": {},
          "execution_count": 10
        }
      ]
    },
    {
      "cell_type": "code",
      "source": [
        "for my_fruit in fruit:\n",
        "  print(f'This is my favorite fruit: {my_fruit}')"
      ],
      "metadata": {
        "colab": {
          "base_uri": "https://localhost:8080/"
        },
        "id": "KoBAweQ1SBRu",
        "outputId": "539a8b89-9e2e-47d7-e94f-ac16e983baaf"
      },
      "execution_count": 12,
      "outputs": [
        {
          "output_type": "stream",
          "name": "stdout",
          "text": [
            "This is my favorite fruit: apple\n",
            "This is my favorite fruit: pear\n",
            "This is my favorite fruit: strawberry\n"
          ]
        }
      ]
    },
    {
      "cell_type": "markdown",
      "source": [
        "####Dictionary"
      ],
      "metadata": {
        "id": "OD2UezuUS7t_"
      }
    },
    {
      "cell_type": "code",
      "source": [
        "meal = {'breakfast': 'black coffee', 'lunch': 'salad', 'dinner': 'beans and rice'}"
      ],
      "metadata": {
        "id": "ZYSnkWICTDkX"
      },
      "execution_count": 15,
      "outputs": []
    },
    {
      "cell_type": "code",
      "source": [
        "meal.keys()"
      ],
      "metadata": {
        "colab": {
          "base_uri": "https://localhost:8080/"
        },
        "id": "q5iu9HVkTisb",
        "outputId": "9678cf69-6e6e-43ee-e986-0f82eb71ed3c"
      },
      "execution_count": 17,
      "outputs": [
        {
          "output_type": "execute_result",
          "data": {
            "text/plain": [
              "dict_keys(['breakfast', 'lunch', 'dinner'])"
            ]
          },
          "metadata": {},
          "execution_count": 17
        }
      ]
    },
    {
      "cell_type": "code",
      "source": [
        "for meal_name, meal_item in meal.items():\n",
        "  print(f'{meal_name} is when I like to consume {meal_item}.')"
      ],
      "metadata": {
        "colab": {
          "base_uri": "https://localhost:8080/"
        },
        "id": "RPLapuIOUe-G",
        "outputId": "06a3c0a8-a07f-483a-d44b-b1f0632d6ee4"
      },
      "execution_count": 18,
      "outputs": [
        {
          "output_type": "stream",
          "name": "stdout",
          "text": [
            "breakfast is when I like to consume black coffee.\n",
            "lunch is when I like to consume salad.\n",
            "dinner is when I like to consume beans and rice.\n"
          ]
        }
      ]
    }
  ]
}